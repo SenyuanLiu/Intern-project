{
 "cells": [
  {
   "cell_type": "code",
   "execution_count": 1,
   "id": "23d48dc6",
   "metadata": {},
   "outputs": [
    {
     "name": "stdout",
     "output_type": "stream",
     "text": [
      "Driver Log: c642d82b-869e-467f-95f8-e3c4e03cabcb.log\n",
      "Tracking URL: http://application.tdw.oa.com:8080/proxy/application_1651128848533_19062726\n"
     ]
    }
   ],
   "source": [
    "from pyspark.sql import SparkSession\n",
    "import os\n",
    "os.environ['GROUP_ID'] = 'g_teg_ams_exp_ams_exp_report'\n",
    "os.environ['GAIA_ID'] = '3122'\n",
    "session = SparkSession.builder.config('spark.driver.memory', '8g').config('spark.executor.cores', 8).config('spark.executor.memory', '8g').getOrCreate()"
   ]
  },
  {
   "cell_type": "code",
   "execution_count": 35,
   "id": "6aee9c1a",
   "metadata": {},
   "outputs": [
    {
     "name": "stdout",
     "output_type": "stream",
     "text": [
      "['p_20220901']\n"
     ]
    }
   ],
   "source": [
    "import numpy as np\n",
    "import os\n",
    "import pandas as pd\n",
    "import math\n",
    "import scipy.stats as stats\n",
    "from matplotlib import pyplot as plt\n",
    "from sklearn.linear_model import LinearRegression\n",
    "from sklearn.metrics import r2_score\n",
    "import math\n",
    "\n",
    "expId=62206\n",
    "beginDate='20220901'\n",
    "endDate='20220901'\n",
    "dateRange=[d.strftime('p_%Y%m%d') for d in pd.date_range(beginDate,endDate)]\n",
    "print(dateRange)"
   ]
  },
  {
   "cell_type": "code",
   "execution_count": 36,
   "id": "3229001e",
   "metadata": {},
   "outputs": [],
   "source": [
    "from pytoolkit import TDWSQLProvider\n",
    "provider = TDWSQLProvider(session, group='tl', db='teg_ams_exp_report_app')\n",
    "provider.table('t_exp_trigger_mh_d', priParts=dateRange).createOrReplaceTempView('t_exp_trigger_mh_d')"
   ]
  },
  {
   "cell_type": "code",
   "execution_count": 37,
   "id": "4554807e",
   "metadata": {},
   "outputs": [
    {
     "name": "stdout",
     "output_type": "stream",
     "text": [
      "select partition_time,adgroup_id,advertiser_id,\n",
      "       sum(real_cost_micro_with_contract)/1000000 as cost,\n",
      "       sum(gmv)/1000000 as gmv,\n",
      "       sum(valid_exposure_count) as imp,\n",
      "       sum(valid_click_count) as clk,\n",
      "       sum(first_conv_count) as conv\n",
      "from t_exp_trigger_mh_d\n",
      "where partition_time between 20220901 and 20220901\n",
      "       and exp_id in (62206)\n",
      "       and abnormal_user_type in (0)\n",
      "group by partition_time,adgroup_id,advertiser_id\n"
     ]
    }
   ],
   "source": [
    "sqlString=\"\"\"select partition_time,adgroup_id,advertiser_id,\n",
    "       sum(real_cost_micro_with_contract)/1000000 as cost,\n",
    "       sum(gmv)/1000000 as gmv,\n",
    "       sum(valid_exposure_count) as imp,\n",
    "       sum(valid_click_count) as clk,\n",
    "       sum(first_conv_count) as conv\n",
    "from t_exp_trigger_mh_d\n",
    "where partition_time between {} and {}\n",
    "       and exp_id in ({})\n",
    "       and abnormal_user_type in (0)\n",
    "group by partition_time,adgroup_id,advertiser_id\"\"\".format(\n",
    "    beginDate,endDate,\n",
    "    expId\n",
    ")\n",
    "print(sqlString)"
   ]
  },
  {
   "cell_type": "code",
   "execution_count": 38,
   "id": "73c944ee",
   "metadata": {},
   "outputs": [],
   "source": [
    "df=session.sql(sqlString).toPandas()"
   ]
  },
  {
   "cell_type": "code",
   "execution_count": 39,
   "id": "88a6cad8",
   "metadata": {},
   "outputs": [
    {
     "data": {
      "text/html": [
       "<div>\n",
       "<style scoped>\n",
       "    .dataframe tbody tr th:only-of-type {\n",
       "        vertical-align: middle;\n",
       "    }\n",
       "\n",
       "    .dataframe tbody tr th {\n",
       "        vertical-align: top;\n",
       "    }\n",
       "\n",
       "    .dataframe thead th {\n",
       "        text-align: right;\n",
       "    }\n",
       "</style>\n",
       "<table border=\"1\" class=\"dataframe\">\n",
       "  <thead>\n",
       "    <tr style=\"text-align: right;\">\n",
       "      <th></th>\n",
       "      <th>partition_time</th>\n",
       "      <th>adgroup_id</th>\n",
       "      <th>advertiser_id</th>\n",
       "      <th>cost</th>\n",
       "      <th>gmv</th>\n",
       "      <th>imp</th>\n",
       "      <th>clk</th>\n",
       "      <th>conv</th>\n",
       "    </tr>\n",
       "  </thead>\n",
       "  <tbody>\n",
       "    <tr>\n",
       "      <th>0</th>\n",
       "      <td>20220901</td>\n",
       "      <td>6450312550</td>\n",
       "      <td>25600486</td>\n",
       "      <td>0.00</td>\n",
       "      <td>0.0</td>\n",
       "      <td>2</td>\n",
       "      <td>0</td>\n",
       "      <td>0</td>\n",
       "    </tr>\n",
       "    <tr>\n",
       "      <th>1</th>\n",
       "      <td>20220901</td>\n",
       "      <td>6456479609</td>\n",
       "      <td>24044379</td>\n",
       "      <td>42.55</td>\n",
       "      <td>115.8</td>\n",
       "      <td>1527</td>\n",
       "      <td>19</td>\n",
       "      <td>1</td>\n",
       "    </tr>\n",
       "    <tr>\n",
       "      <th>2</th>\n",
       "      <td>20220901</td>\n",
       "      <td>6437741927</td>\n",
       "      <td>25379081</td>\n",
       "      <td>0.07</td>\n",
       "      <td>0.0</td>\n",
       "      <td>13</td>\n",
       "      <td>0</td>\n",
       "      <td>0</td>\n",
       "    </tr>\n",
       "    <tr>\n",
       "      <th>3</th>\n",
       "      <td>20220901</td>\n",
       "      <td>6444126093</td>\n",
       "      <td>24839784</td>\n",
       "      <td>1.29</td>\n",
       "      <td>0.0</td>\n",
       "      <td>17</td>\n",
       "      <td>1</td>\n",
       "      <td>0</td>\n",
       "    </tr>\n",
       "    <tr>\n",
       "      <th>4</th>\n",
       "      <td>20220901</td>\n",
       "      <td>6301761412</td>\n",
       "      <td>25537082</td>\n",
       "      <td>0.00</td>\n",
       "      <td>0.0</td>\n",
       "      <td>2</td>\n",
       "      <td>0</td>\n",
       "      <td>0</td>\n",
       "    </tr>\n",
       "    <tr>\n",
       "      <th>...</th>\n",
       "      <td>...</td>\n",
       "      <td>...</td>\n",
       "      <td>...</td>\n",
       "      <td>...</td>\n",
       "      <td>...</td>\n",
       "      <td>...</td>\n",
       "      <td>...</td>\n",
       "      <td>...</td>\n",
       "    </tr>\n",
       "    <tr>\n",
       "      <th>3259900</th>\n",
       "      <td>20220901</td>\n",
       "      <td>6461980880</td>\n",
       "      <td>24880307</td>\n",
       "      <td>0.00</td>\n",
       "      <td>0.0</td>\n",
       "      <td>3</td>\n",
       "      <td>0</td>\n",
       "      <td>0</td>\n",
       "    </tr>\n",
       "    <tr>\n",
       "      <th>3259901</th>\n",
       "      <td>20220901</td>\n",
       "      <td>6461088281</td>\n",
       "      <td>24962687</td>\n",
       "      <td>0.00</td>\n",
       "      <td>0.0</td>\n",
       "      <td>0</td>\n",
       "      <td>0</td>\n",
       "      <td>0</td>\n",
       "    </tr>\n",
       "    <tr>\n",
       "      <th>3259902</th>\n",
       "      <td>20220901</td>\n",
       "      <td>6462231567</td>\n",
       "      <td>25670672</td>\n",
       "      <td>6.68</td>\n",
       "      <td>0.0</td>\n",
       "      <td>487</td>\n",
       "      <td>30</td>\n",
       "      <td>0</td>\n",
       "    </tr>\n",
       "    <tr>\n",
       "      <th>3259903</th>\n",
       "      <td>20220901</td>\n",
       "      <td>6465268807</td>\n",
       "      <td>21054149</td>\n",
       "      <td>27.98</td>\n",
       "      <td>0.0</td>\n",
       "      <td>455</td>\n",
       "      <td>4</td>\n",
       "      <td>0</td>\n",
       "    </tr>\n",
       "    <tr>\n",
       "      <th>3259904</th>\n",
       "      <td>20220901</td>\n",
       "      <td>6465980022</td>\n",
       "      <td>25535340</td>\n",
       "      <td>0.00</td>\n",
       "      <td>0.0</td>\n",
       "      <td>3</td>\n",
       "      <td>0</td>\n",
       "      <td>0</td>\n",
       "    </tr>\n",
       "  </tbody>\n",
       "</table>\n",
       "<p>3259905 rows × 8 columns</p>\n",
       "</div>"
      ],
      "text/plain": [
       "         partition_time  adgroup_id  advertiser_id   cost    gmv   imp  clk  \\\n",
       "0              20220901  6450312550       25600486   0.00    0.0     2    0   \n",
       "1              20220901  6456479609       24044379  42.55  115.8  1527   19   \n",
       "2              20220901  6437741927       25379081   0.07    0.0    13    0   \n",
       "3              20220901  6444126093       24839784   1.29    0.0    17    1   \n",
       "4              20220901  6301761412       25537082   0.00    0.0     2    0   \n",
       "...                 ...         ...            ...    ...    ...   ...  ...   \n",
       "3259900        20220901  6461980880       24880307   0.00    0.0     3    0   \n",
       "3259901        20220901  6461088281       24962687   0.00    0.0     0    0   \n",
       "3259902        20220901  6462231567       25670672   6.68    0.0   487   30   \n",
       "3259903        20220901  6465268807       21054149  27.98    0.0   455    4   \n",
       "3259904        20220901  6465980022       25535340   0.00    0.0     3    0   \n",
       "\n",
       "         conv  \n",
       "0           0  \n",
       "1           1  \n",
       "2           0  \n",
       "3           0  \n",
       "4           0  \n",
       "...       ...  \n",
       "3259900     0  \n",
       "3259901     0  \n",
       "3259902     0  \n",
       "3259903     0  \n",
       "3259904     0  \n",
       "\n",
       "[3259905 rows x 8 columns]"
      ]
     },
     "execution_count": 39,
     "metadata": {},
     "output_type": "execute_result"
    }
   ],
   "source": [
    "df"
   ]
  },
  {
   "cell_type": "code",
   "execution_count": 53,
   "id": "a28645f5",
   "metadata": {},
   "outputs": [],
   "source": [
    "def Zipf_Law_top(df, rank):\n",
    "    df2 = df[df.cost>0]\n",
    "    df3 = df2.nlargest(n=rank, columns=['cost'])\n",
    "    df3['cost'] = np.log(df3['cost']) \n",
    "    df4 = df3[df3.cost<200]\n",
    "\n",
    "    id = [i for i in range(1,len(df4)+1)]\n",
    "    df4['id'] = id\n",
    "    df4['id'] = np.log(df4['id']) \n",
    "    \n",
    "    x = np.array([i for i in df4.id])\n",
    "    y = np.array([i for i in df4.cost])\n",
    "    \n",
    "    reg = LinearRegression().fit(x.reshape(-1,1),y)\n",
    "    abline_values = [reg.coef_ * i + reg.intercept_ for i in df4.id]\n",
    "    diabetes_y_pred = reg.predict(x.reshape(-1,1))\n",
    "\n",
    "    df4.plot.scatter(x = 'id',y = 'cost')\n",
    "    plt.plot(x, diabetes_y_pred, 'b')\n",
    "    plt.title(\"Top rank\")\n",
    "    print(\"Intercept: \",reg.intercept_)\n",
    "    print(\"Coefficients: \", reg.coef_)\n",
    "    print(\"r2: %.4f\" % r2_score(y, diabetes_y_pred))\n"
   ]
  },
  {
   "cell_type": "code",
   "execution_count": 49,
   "id": "a7298d8e",
   "metadata": {},
   "outputs": [],
   "source": [
    "def Zipf_Law_All(df):\n",
    "    df2 = df[df.cost>0]\n",
    "    df5 = df2.nlargest(n=len(df2)  , columns=['cost'])\n",
    "    id = [i for i in range(1,len(df5)+1)]\n",
    "    df5['id'] = id\n",
    "    \n",
    "    cost_y = np.array([i for i in df5.cost])\n",
    "    id_list = [i for i in range(1,11)]\n",
    "    id_log = np.log(id_list) \n",
    "    \n",
    "    value_list = []\n",
    "    sum_value = 0\n",
    "    for i in range(len(df5) ):\n",
    "        sum_value += cost_y[i]\n",
    "        if i%(len(df5)//10) == 0:\n",
    "            value_list.append(sum_value)\n",
    "            sum_value = 0\n",
    "    #value_list.append(sum_value)\n",
    "    value_list.pop(0)\n",
    "    value_list = np.log(value_list) \n",
    "\n",
    "    x2 = np.array(id_list)\n",
    "    y2 = np.array(value_list)\n",
    "    reg2 = LinearRegression().fit(x2.reshape(-1,1),y2)\n",
    "    \n",
    "    abline_values2 = [reg2.coef_ * i + reg2.intercept_ for i in x2]\n",
    "    diabetes_y_pred2 = reg2.predict(x2.reshape(-1,1))\n",
    "\n",
    "    plt.scatter(x2,y2 )\n",
    "    plt.plot(x2, diabetes_y_pred2)\n",
    "    plt.title(\"All AD\")\n",
    "    print(\"Intercept: \", reg2.intercept_ )\n",
    "    print(\"Coefficients: \", reg2.coef_)\n",
    "    print(\"r2: %.4f\" % r2_score(y2, diabetes_y_pred2))\n"
   ]
  },
  {
   "cell_type": "code",
   "execution_count": 54,
   "id": "9671cfe7",
   "metadata": {},
   "outputs": [
    {
     "name": "stdout",
     "output_type": "stream",
     "text": [
      "Intercept:  13.704119345653755\n",
      "Coefficients:  [-0.55897745]\n",
      "r2: 0.9920\n"
     ]
    },
    {
     "data": {
      "image/png": "[encoded data removed]",
      "text/plain": [
       "<Figure size 432x288 with 1 Axes>"
      ]
     },
     "metadata": {
      "needs_background": "light"
     },
     "output_type": "display_data"
    }
   ],
   "source": [
    "Zipf_Law_top(df, 1000)"
   ]
  },
  {
   "cell_type": "code",
   "execution_count": 43,
   "id": "4c83a01f",
   "metadata": {},
   "outputs": [
    {
     "name": "stdout",
     "output_type": "stream",
     "text": [
      "Intercept:  18.599724870141863\n",
      "Coefficients:  [-1.0553427]\n",
      "r2: 0.9624\n"
     ]
    },
    {
     "data": {
      "image/png": "[encoded data removed]",
      "text/plain": [
       "<Figure size 432x288 with 1 Axes>"
      ]
     },
     "metadata": {
      "needs_background": "light"
     },
     "output_type": "display_data"
    }
   ],
   "source": [
    "Zipf_Law_All(df)"
   ]
  },
  {
   "cell_type": "code",
   "execution_count": null,
   "id": "1caa9ee9",
   "metadata": {},
   "outputs": [],
   "source": []
  },
  {
   "cell_type": "code",
   "execution_count": null,
   "id": "4ef8a37b",
   "metadata": {},
   "outputs": [],
   "source": []
  },
  {
   "cell_type": "code",
   "execution_count": null,
   "id": "e61db196",
   "metadata": {},
   "outputs": [],
   "source": []
  },
  {
   "cell_type": "code",
   "execution_count": null,
   "id": "ef8855e3",
   "metadata": {},
   "outputs": [],
   "source": []
  },
  {
   "cell_type": "code",
   "execution_count": null,
   "id": "cf978923",
   "metadata": {},
   "outputs": [],
   "source": []
  }
 ],
 "metadata": {
  "kernelspec": {
   "display_name": "Python 3 (ipykernel)",
   "language": "python",
   "name": "python3"
  },
  "language_info": {
   "codemirror_mode": {
    "name": "ipython",
    "version": 3
   },
   "file_extension": ".py",
   "mimetype": "text/x-python",
   "name": "python",
   "nbconvert_exporter": "python",
   "pygments_lexer": "ipython3",
   "version": "3.9.12"
  }
 },
 "nbformat": 4,
 "nbformat_minor": 5
}
