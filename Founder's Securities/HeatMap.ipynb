{
 "cells": [
  {
   "cell_type": "code",
   "execution_count": 21,
   "id": "cbc3f8a4",
   "metadata": {},
   "outputs": [],
   "source": [
    "import pandas as pd\n",
    "import numpy as np\n",
    "import os\n",
    "import matplotlib.pyplot as plt\n",
    "import math\n",
    "import seaborn as sns\n",
    "file_path = \"/Users/liusenyuan/Desktop/方正证劵/project2/data.xlsx\"\n",
    "df = pd.read_excel(file_path)"
   ]
  },
  {
   "cell_type": "code",
   "execution_count": 4,
   "id": "e906885b",
   "metadata": {},
   "outputs": [],
   "source": [
    "def MA(a):\n",
    "    MA_value = []\n",
    "    for i in range(len(df['Date'])):\n",
    "        if i<a-1:\n",
    "            MA_value.append(0)\n",
    "        else:\n",
    "            add_value = sum(df['Price'][i-(a-1):i+1])/a\n",
    "            MA_value.append(add_value)\n",
    "    return MA_value"
   ]
  },
  {
   "cell_type": "code",
   "execution_count": 5,
   "id": "157be521",
   "metadata": {},
   "outputs": [],
   "source": [
    "def absolute_value(x,y):\n",
    "    MA_x = []\n",
    "    for i in range(len(df['Date'])):\n",
    "        if i<x-1:\n",
    "            MA_x.append(0)\n",
    "        else:\n",
    "            add_value = sum(df['Price'][i-(x-1):i+1])/x\n",
    "            MA_x.append(add_value)     \n",
    "    MA_y = []\n",
    "    for i in range(len(df['Date'])):\n",
    "        if i<y-1:\n",
    "            MA_y.append(0)\n",
    "        else:\n",
    "            add_value = sum(df['Price'][i-(y-1):i+1])/y\n",
    "            MA_y.append(add_value)\n",
    "    position = False#持仓\n",
    "    golden_cross = False\n",
    "    golden_cross_price = 0\n",
    "    absolute = [1]\n",
    "    near_gold = False \n",
    "    trade = 0\n",
    "    \n",
    "    for i in range(1,len(df['Date'])):\n",
    "        #判断金叉:\n",
    "        if (MA_x[i-1]<MA_y[i-1]) and (MA_x[i]>MA_y[i]):\n",
    "            golden_cross = True\n",
    "            golden_cross_price = df['Price'][i]\n",
    "            near_gold = True\n",
    "        #判断死叉:\n",
    "        elif (MA_x[i-1]>MA_y[i-1]) and (MA_x[i]<MA_y[i]):\n",
    "            golden_cross = False\n",
    "            near_gold = False\n",
    "        else:\n",
    "            golden_cross = False\n",
    "\n",
    "        if position==False:#空仓情况下\n",
    "            if golden_cross == True:\n",
    "                absolute.append(absolute[i-1])\n",
    "                position = True\n",
    "                trade+=1\n",
    "\n",
    "            elif (near_gold == True) and (df['Price'][i]>golden_cross_price):\n",
    "                absolute.append(absolute[i-1])\n",
    "                position = True\n",
    "                trade+=1\n",
    "            else:\n",
    "                absolute.append(absolute[i-1])\n",
    "                position = False\n",
    "        else:#持仓情况下\n",
    "            if df['Price'][i]<golden_cross_price:\n",
    "                position = False#卖出，变为空仓\n",
    "                trade+=1\n",
    "                absolute.append(absolute[-1]*(df['Price'][i]/df['Price'][i-1]))\n",
    "            else:\n",
    "                absolute.append(absolute[-1]*(df['Price'][i]/df['Price'][i-1]))\n",
    "                position = True #不卖，保持持仓   \n",
    "    return absolute"
   ]
  },
  {
   "cell_type": "code",
   "execution_count": 14,
   "id": "4b4386fc",
   "metadata": {},
   "outputs": [],
   "source": [
    "#sharpe\n",
    "def sharpe(k1,k2):\n",
    "    sharpe_value = 0\n",
    "    absolute = absolute_value(k1,k2)\n",
    "    ARR = (absolute[-1])**(242/3676)-1\n",
    "    ret_list = [0]\n",
    "    for i in range(1, len(absolute)):\n",
    "        ret_list.append((absolute[i] / absolute[i-1]) - 1)\n",
    "    volatility = np.std(ret_list,ddof=1)*math.sqrt(242)\n",
    "    sharpe_value = ARR/volatility\n",
    "    return sharpe_value"
   ]
  },
  {
   "cell_type": "code",
   "execution_count": 33,
   "id": "40a3081b",
   "metadata": {},
   "outputs": [
    {
     "data": {
      "text/html": [
       "<div>\n",
       "<style scoped>\n",
       "    .dataframe tbody tr th:only-of-type {\n",
       "        vertical-align: middle;\n",
       "    }\n",
       "\n",
       "    .dataframe tbody tr th {\n",
       "        vertical-align: top;\n",
       "    }\n",
       "\n",
       "    .dataframe thead th {\n",
       "        text-align: right;\n",
       "    }\n",
       "</style>\n",
       "<table border=\"1\" class=\"dataframe\">\n",
       "  <thead>\n",
       "    <tr style=\"text-align: right;\">\n",
       "      <th></th>\n",
       "      <th>10</th>\n",
       "      <th>20</th>\n",
       "      <th>30</th>\n",
       "      <th>60</th>\n",
       "      <th>120</th>\n",
       "      <th>240</th>\n",
       "    </tr>\n",
       "  </thead>\n",
       "  <tbody>\n",
       "    <tr>\n",
       "      <th>5</th>\n",
       "      <td>0.365617</td>\n",
       "      <td>0.673107</td>\n",
       "      <td>0.759650</td>\n",
       "      <td>0.765246</td>\n",
       "      <td>0.448576</td>\n",
       "      <td>0.007300</td>\n",
       "    </tr>\n",
       "    <tr>\n",
       "      <th>10</th>\n",
       "      <td>0.000000</td>\n",
       "      <td>0.629623</td>\n",
       "      <td>0.740196</td>\n",
       "      <td>0.766918</td>\n",
       "      <td>0.468303</td>\n",
       "      <td>0.059766</td>\n",
       "    </tr>\n",
       "    <tr>\n",
       "      <th>20</th>\n",
       "      <td>0.000000</td>\n",
       "      <td>0.000000</td>\n",
       "      <td>0.796058</td>\n",
       "      <td>0.674684</td>\n",
       "      <td>0.338329</td>\n",
       "      <td>0.036149</td>\n",
       "    </tr>\n",
       "    <tr>\n",
       "      <th>30</th>\n",
       "      <td>0.000000</td>\n",
       "      <td>0.000000</td>\n",
       "      <td>0.000000</td>\n",
       "      <td>0.664993</td>\n",
       "      <td>0.379285</td>\n",
       "      <td>0.190434</td>\n",
       "    </tr>\n",
       "    <tr>\n",
       "      <th>60</th>\n",
       "      <td>0.000000</td>\n",
       "      <td>0.000000</td>\n",
       "      <td>0.000000</td>\n",
       "      <td>0.000000</td>\n",
       "      <td>0.091380</td>\n",
       "      <td>0.005293</td>\n",
       "    </tr>\n",
       "    <tr>\n",
       "      <th>120</th>\n",
       "      <td>0.000000</td>\n",
       "      <td>0.000000</td>\n",
       "      <td>0.000000</td>\n",
       "      <td>0.000000</td>\n",
       "      <td>0.000000</td>\n",
       "      <td>-0.017709</td>\n",
       "    </tr>\n",
       "  </tbody>\n",
       "</table>\n",
       "</div>"
      ],
      "text/plain": [
       "          10        20        30        60        120       240\n",
       "5    0.365617  0.673107  0.759650  0.765246  0.448576  0.007300\n",
       "10   0.000000  0.629623  0.740196  0.766918  0.468303  0.059766\n",
       "20   0.000000  0.000000  0.796058  0.674684  0.338329  0.036149\n",
       "30   0.000000  0.000000  0.000000  0.664993  0.379285  0.190434\n",
       "60   0.000000  0.000000  0.000000  0.000000  0.091380  0.005293\n",
       "120  0.000000  0.000000  0.000000  0.000000  0.000000 -0.017709"
      ]
     },
     "execution_count": 33,
     "metadata": {},
     "output_type": "execute_result"
    }
   ],
   "source": [
    "data = pd.DataFrame(0.0,index = [5,10,20,30,60,120], columns = [10,20,30,60,120,240])\n",
    "for i in data.index:\n",
    "    for j in data.columns:\n",
    "        if j>i:\n",
    "            data.at[i,j] = sharpe(i,j)\n",
    "data"
   ]
  },
  {
   "cell_type": "code",
   "execution_count": 35,
   "id": "24cad318",
   "metadata": {},
   "outputs": [
    {
     "data": {
      "text/plain": [
       "<AxesSubplot:>"
      ]
     },
     "execution_count": 35,
     "metadata": {},
     "output_type": "execute_result"
    },
    {
     "data": {
      "image/png": "[encoded data removed]",
      "text/plain": [
       "<Figure size 432x288 with 2 Axes>"
      ]
     },
     "metadata": {
      "needs_background": "light"
     },
     "output_type": "display_data"
    }
   ],
   "source": [
    "sns.heatmap(data, annot=True)"
   ]
  },
  {
   "cell_type": "code",
   "execution_count": null,
   "id": "aa6dbc63",
   "metadata": {},
   "outputs": [],
   "source": []
  }
 ],
 "metadata": {
  "kernelspec": {
   "display_name": "Python 3",
   "language": "python",
   "name": "python3"
  },
  "language_info": {
   "codemirror_mode": {
    "name": "ipython",
    "version": 3
   },
   "file_extension": ".py",
   "mimetype": "text/x-python",
   "name": "python",
   "nbconvert_exporter": "python",
   "pygments_lexer": "ipython3",
   "version": "3.8.8"
  }
 },
 "nbformat": 4,
 "nbformat_minor": 5
}
